{
 "cells": [
  {
   "cell_type": "markdown",
   "metadata": {},
   "source": [
    "## 16<sup>th</sup> of April, 2020\n",
    "## Benjamin Adam Catching\n",
    "## Coronavirus Simulation\n",
    "## Andino Lab"
   ]
  },
  {
   "cell_type": "code",
   "execution_count": 1,
   "metadata": {},
   "outputs": [],
   "source": [
    "# Import python packages\n",
    "import numpy as np\n",
    "import matplotlib.pyplot as plt\n",
    "from matplotlib.animation import FuncAnimation\n",
    "import seaborn as sns\n",
    "import pandas as pd\n",
    "import scipy"
   ]
  },
  {
   "cell_type": "markdown",
   "metadata": {},
   "source": [
    "The baseline simulation works, where the half of cases in a population are due to asymptomatic transmission. The simulation code takes a while to run for $n_{agents} > 200$. Today the code needs to be finalized to recover the $R_{o}$ value of 2.5. This should be calculated in the time period containing the largest burst of infections. "
   ]
  },
  {
   "cell_type": "markdown",
   "metadata": {},
   "source": [
    "The parameters of velocity and density will be the knobs adjusted to recover a growth in symptomatic cases that the $R_{o}$. To automate this process, a function will be created to measure the $R_{o}$ of a given run. Then an array of systems will be iterated over to find parameters that best describe real-life infection rates."
   ]
  },
  {
   "cell_type": "code",
   "execution_count": null,
   "metadata": {},
   "outputs": [],
   "source": []
  }
 ],
 "metadata": {
  "kernelspec": {
   "display_name": "Python 3",
   "language": "python",
   "name": "python3"
  },
  "language_info": {
   "codemirror_mode": {
    "name": "ipython",
    "version": 3
   },
   "file_extension": ".py",
   "mimetype": "text/x-python",
   "name": "python",
   "nbconvert_exporter": "python",
   "pygments_lexer": "ipython3",
   "version": "3.7.1"
  }
 },
 "nbformat": 4,
 "nbformat_minor": 2
}
